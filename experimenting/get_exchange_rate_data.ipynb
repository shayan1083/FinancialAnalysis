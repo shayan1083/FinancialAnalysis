{
 "cells": [
  {
   "cell_type": "code",
   "execution_count": 1,
   "metadata": {},
   "outputs": [],
   "source": [
    "import numpy as np\n",
    "import pandas as pd\n",
    "import yfinance as yf\n",
    "import mysql.connector as sql\n",
    "from sqlalchemy import create_engine\n",
    "from dotenv import load_dotenv\n",
    "import os\n",
    "import matplotlib.pyplot as plt\n",
    "import openpyxl"
   ]
  },
  {
   "cell_type": "code",
   "execution_count": 88,
   "metadata": {},
   "outputs": [],
   "source": [
    "from statsmodels.tsa.seasonal import seasonal_decompose\n",
    "from pmdarima import auto_arima\n",
    "from statsmodels.tsa.statespace.sarimax import SARIMAX"
   ]
  },
  {
   "cell_type": "code",
   "execution_count": null,
   "metadata": {},
   "outputs": [],
   "source": [
    "usd_eur = yf.download('USDEUR=X', start='2019-01-01', end='2024-01-01')\n",
    "\n",
    "# minute data\n",
    "#usd_eur = yf.download('USDEUR=X', period='5d', interval='5m')"
   ]
  },
  {
   "cell_type": "code",
   "execution_count": 137,
   "metadata": {},
   "outputs": [],
   "source": [
    "usd_eur.index = pd.to_datetime(usd_eur.index)"
   ]
  },
  {
   "cell_type": "code",
   "execution_count": null,
   "metadata": {},
   "outputs": [],
   "source": [
    "usd_eur"
   ]
  },
  {
   "cell_type": "code",
   "execution_count": null,
   "metadata": {},
   "outputs": [],
   "source": [
    "plt.figure(figsize=(10,6))\n",
    "plt.plot(usd_eur.index.astype(str), usd_eur['Close'], label='Close Price', color='b')\n",
    "plt.title('Close Price Over Time', fontsize=14)\n",
    "plt.xlabel('Record Date', fontsize=12)\n",
    "plt.ylabel('Close Price', fontsize=12)\n",
    "plt.legend()\n",
    "num_ticks = 10  \n",
    "plt.gca().set_xticks(plt.gca().get_xticks()[::len(usd_eur)//num_ticks])\n",
    "plt.xticks(rotation=45)\n",
    "plt.show()"
   ]
  },
  {
   "cell_type": "code",
   "execution_count": null,
   "metadata": {},
   "outputs": [],
   "source": [
    "usd_eur.isnull().sum()"
   ]
  },
  {
   "cell_type": "code",
   "execution_count": 132,
   "metadata": {},
   "outputs": [],
   "source": [
    "train_size = int(len(usd_eur) * 0.8)\n",
    "train = usd_eur[:train_size] \n",
    "test = usd_eur[train_size:] "
   ]
  },
  {
   "cell_type": "markdown",
   "metadata": {},
   "source": [
    "Perform Seasonal Decomposition to identify recurring patterns"
   ]
  },
  {
   "cell_type": "code",
   "execution_count": null,
   "metadata": {},
   "outputs": [],
   "source": [
    "result = seasonal_decompose(usd_eur['Close'],model='multiplicative', period=24)\n",
    "fig = plt.figure()\n",
    "fig = result.plot()\n",
    "fig.show()"
   ]
  },
  {
   "cell_type": "code",
   "execution_count": null,
   "metadata": {},
   "outputs": [],
   "source": [
    "model = auto_arima(train['Close'], seasonal=True, m=60, suppress_warnings=True)\n",
    "print(model.order)"
   ]
  },
  {
   "cell_type": "code",
   "execution_count": null,
   "metadata": {},
   "outputs": [],
   "source": [
    "model = SARIMAX(train['Close'], order=(1, 1, 3), seasonal_order=(1, 1, 3, 60))\n",
    "fitted = model.fit()\n",
    "fitted.summary()   "
   ]
  },
  {
   "cell_type": "code",
   "execution_count": null,
   "metadata": {},
   "outputs": [],
   "source": [
    "\n",
    "\n",
    "forecast = fitted.get_forecast(steps=len(test))\n",
    "\n",
    "# Get predicted mean from the forecast\n",
    "forecast_mean = forecast.predicted_mean\n",
    "\n",
    "# Create a date range for the forecast, starting from the last date in the training set\n",
    "forecast_index = pd.date_range(start=usd_eur.index[train_size - 1], periods=len(test) + 1, freq='T')[1:]\n",
    "\n",
    "# Convert the forecasted values to a pandas Series and align with the forecast index\n",
    "forecast_series = pd.Series(forecast_mean.values, index=forecast_index)\n",
    "\n",
    "# Step 4: Plot the full data (actual and forecast)\n",
    "plt.figure(figsize=(10, 6))\n",
    "\n",
    "# Plot the actual data (all 1303 rows)\n",
    "plt.plot(usd_eur['Close'], label='Actual Data', color='blue')\n",
    "\n",
    "# Plot the forecasted data\n",
    "plt.plot(forecast_series, label='Forecasted Data', color='orange', linestyle='--')\n",
    "\n",
    "# Add titles and labels\n",
    "plt.title('USD to EUR Exchange Rate Forecast')\n",
    "plt.xlabel('Date')\n",
    "plt.ylabel('Close Price')\n",
    "\n",
    "# Add legend\n",
    "plt.legend()\n",
    "\n",
    "# Show the plot\n",
    "plt.show()"
   ]
  }
 ],
 "metadata": {
  "kernelspec": {
   "display_name": "venv",
   "language": "python",
   "name": "python3"
  },
  "language_info": {
   "codemirror_mode": {
    "name": "ipython",
    "version": 3
   },
   "file_extension": ".py",
   "mimetype": "text/x-python",
   "name": "python",
   "nbconvert_exporter": "python",
   "pygments_lexer": "ipython3",
   "version": "3.11.3"
  }
 },
 "nbformat": 4,
 "nbformat_minor": 2
}
